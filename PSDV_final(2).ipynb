{
 "cells": [
  {
   "cell_type": "code",
   "execution_count": 13,
   "metadata": {},
   "outputs": [],
   "source": [
    "import pandas as pd\n",
    "import numpy as np\n",
    "import matplotlib.pyplot as plt\n",
    "import seaborn as sns"
   ]
  },
  {
   "cell_type": "code",
   "execution_count": 14,
   "metadata": {},
   "outputs": [],
   "source": [
    "data_path = \"Data.csv\"\n",
    "df = pd.read_csv(data_path)"
   ]
  },
  {
   "cell_type": "code",
   "execution_count": 15,
   "metadata": {},
   "outputs": [
    {
     "data": {
      "text/html": [
       "<div>\n",
       "<style scoped>\n",
       "    .dataframe tbody tr th:only-of-type {\n",
       "        vertical-align: middle;\n",
       "    }\n",
       "\n",
       "    .dataframe tbody tr th {\n",
       "        vertical-align: top;\n",
       "    }\n",
       "\n",
       "    .dataframe thead th {\n",
       "        text-align: right;\n",
       "    }\n",
       "</style>\n",
       "<table border=\"1\" class=\"dataframe\">\n",
       "  <thead>\n",
       "    <tr style=\"text-align: right;\">\n",
       "      <th></th>\n",
       "      <th>Timestamp</th>\n",
       "      <th>station</th>\n",
       "      <th>PM2.5</th>\n",
       "      <th>PM10</th>\n",
       "      <th>address</th>\n",
       "      <th>city</th>\n",
       "      <th>latitude</th>\n",
       "      <th>longitude</th>\n",
       "      <th>state</th>\n",
       "    </tr>\n",
       "  </thead>\n",
       "  <tbody>\n",
       "    <tr>\n",
       "      <th>0</th>\n",
       "      <td>2017-01-01</td>\n",
       "      <td>32Bungalows, Bhilai - CECB</td>\n",
       "      <td>NaN</td>\n",
       "      <td>NaN</td>\n",
       "      <td>Bhilai RO Office, 5, 32 Bungalows, Bhilai, Dis...</td>\n",
       "      <td>Bhilai</td>\n",
       "      <td>21.194815</td>\n",
       "      <td>81.314770</td>\n",
       "      <td>Chhattisgarh</td>\n",
       "    </tr>\n",
       "    <tr>\n",
       "      <th>1</th>\n",
       "      <td>2017-01-01</td>\n",
       "      <td>AIIMS, Raipur - CECB</td>\n",
       "      <td>NaN</td>\n",
       "      <td>NaN</td>\n",
       "      <td>All India Institute Of Medical Science, Gate N...</td>\n",
       "      <td>Raipur</td>\n",
       "      <td>21.258815</td>\n",
       "      <td>81.578979</td>\n",
       "      <td>Chhattisgarh</td>\n",
       "    </tr>\n",
       "    <tr>\n",
       "      <th>2</th>\n",
       "      <td>2017-01-01</td>\n",
       "      <td>Adarsh Nagar, Jaipur - RSPCB</td>\n",
       "      <td>NaN</td>\n",
       "      <td>NaN</td>\n",
       "      <td>Psychiatric Centre, Janta Colony, Govind Marg,...</td>\n",
       "      <td>Jaipur</td>\n",
       "      <td>26.902909</td>\n",
       "      <td>75.836858</td>\n",
       "      <td>Rajasthan</td>\n",
       "    </tr>\n",
       "    <tr>\n",
       "      <th>3</th>\n",
       "      <td>2017-01-01</td>\n",
       "      <td>Airoli, Navi Mumbai - MPCB</td>\n",
       "      <td>NaN</td>\n",
       "      <td>54.743723</td>\n",
       "      <td>NaN</td>\n",
       "      <td>Navi Mumbai</td>\n",
       "      <td>19.149400</td>\n",
       "      <td>72.998600</td>\n",
       "      <td>Maharashtra</td>\n",
       "    </tr>\n",
       "    <tr>\n",
       "      <th>4</th>\n",
       "      <td>2017-01-01</td>\n",
       "      <td>Airport Area, Indore - IMC</td>\n",
       "      <td>NaN</td>\n",
       "      <td>NaN</td>\n",
       "      <td>NaN</td>\n",
       "      <td>NaN</td>\n",
       "      <td>NaN</td>\n",
       "      <td>NaN</td>\n",
       "      <td>NaN</td>\n",
       "    </tr>\n",
       "  </tbody>\n",
       "</table>\n",
       "</div>"
      ],
      "text/plain": [
       "    Timestamp                       station  PM2.5       PM10  \\\n",
       "0  2017-01-01    32Bungalows, Bhilai - CECB    NaN        NaN   \n",
       "1  2017-01-01          AIIMS, Raipur - CECB    NaN        NaN   \n",
       "2  2017-01-01  Adarsh Nagar, Jaipur - RSPCB    NaN        NaN   \n",
       "3  2017-01-01    Airoli, Navi Mumbai - MPCB    NaN  54.743723   \n",
       "4  2017-01-01    Airport Area, Indore - IMC    NaN        NaN   \n",
       "\n",
       "                                             address         city   latitude  \\\n",
       "0  Bhilai RO Office, 5, 32 Bungalows, Bhilai, Dis...       Bhilai  21.194815   \n",
       "1  All India Institute Of Medical Science, Gate N...       Raipur  21.258815   \n",
       "2  Psychiatric Centre, Janta Colony, Govind Marg,...       Jaipur  26.902909   \n",
       "3                                                NaN  Navi Mumbai  19.149400   \n",
       "4                                                NaN          NaN        NaN   \n",
       "\n",
       "   longitude         state  \n",
       "0  81.314770  Chhattisgarh  \n",
       "1  81.578979  Chhattisgarh  \n",
       "2  75.836858     Rajasthan  \n",
       "3  72.998600   Maharashtra  \n",
       "4        NaN           NaN  "
      ]
     },
     "metadata": {},
     "output_type": "display_data"
    }
   ],
   "source": [
    "display(df.head())"
   ]
  },
  {
   "cell_type": "code",
   "execution_count": 16,
   "metadata": {},
   "outputs": [],
   "source": [
    "if 'Date' in df.columns:\n",
    "    df['Date'] = pd.to_datetime(df['Date'])"
   ]
  },
  {
   "cell_type": "markdown",
   "metadata": {},
   "source": [
    "1."
   ]
  },
  {
   "cell_type": "markdown",
   "metadata": {},
   "source": [
    "1. Which state (consider all stations in that state) has the highest average PM2.5 concentration across all stations and across all years?"
   ]
  },
  {
   "cell_type": "code",
   "execution_count": 27,
   "metadata": {},
   "outputs": [
    {
     "name": "stdout",
     "output_type": "stream",
     "text": [
      "State with highest average PM2.5 concentration: Delhi (104.10 µg/m³)\n"
     ]
    }
   ],
   "source": [
    "grouped_avg_pm25 = df.groupby('state')['PM2.5'].mean()\n",
    "highest_avg_state = grouped_avg_pm25.idxmax()\n",
    "highest_avg_value = grouped_avg_pm25.max()\n",
    "print(f\"State with highest average PM2.5 concentration: {highest_avg_state} ({highest_avg_value:.2f} µg/m³)\")\n"
   ]
  },
  {
   "cell_type": "markdown",
   "metadata": {},
   "source": [
    "2. Which state (consider all stations in that state) had the most days with hazardous PM2.5 levels (above 300 µg/m³) for the year 2023?"
   ]
  },
  {
   "cell_type": "code",
   "execution_count": 28,
   "metadata": {},
   "outputs": [
    {
     "name": "stdout",
     "output_type": "stream",
     "text": [
      "State with most hazardous PM2.5 days in 2023: Delhi (49 days)\n"
     ]
    }
   ],
   "source": [
    "\n",
    "\n",
    "\n",
    "\n",
    "\n",
    "\n",
    "df.rename(columns={'Timestamp': 'Date'}, inplace=True)\n",
    "df['Date'] = pd.to_datetime(df['Date'], errors='coerce')\n",
    "\n",
    "if df['Date'].isna().any():\n",
    "    print(\"There are some invalid date values in your data that could not be converted.\")\n",
    "\n",
    "df_2023 = df[df['Date'].dt.year == 2023]\n",
    "\n",
    "\n",
    "hazardous_days = df_2023[df_2023['PM2.5'] > 300].groupby('state')['Date'].nunique()\n",
    "\n",
    "most_hazardous_state = hazardous_days.idxmax()\n",
    "most_hazardous_days = hazardous_days.max()\n",
    "\n",
    "print(f\"State with most hazardous PM2.5 days in 2023: {most_hazardous_state} ({most_hazardous_days} days)\")\n",
    "\n",
    "\n"
   ]
  },
  {
   "cell_type": "markdown",
   "metadata": {},
   "source": [
    "3. Which state has the highest variability in PM2.5 levels across its monitoring stations in 2023? (Think how would you measure variability)"
   ]
  },
  {
   "cell_type": "code",
   "execution_count": 29,
   "metadata": {},
   "outputs": [
    {
     "name": "stdout",
     "output_type": "stream",
     "text": [
      "State with highest variability in PM2.5 in 2023: Delhi (Std Dev: 82.80)\n"
     ]
    }
   ],
   "source": [
    "if 'Date' in df.columns:\n",
    "    pm25_variability = df_2023.groupby('state')['PM2.5'].std()\n",
    "    highest_var_state = pm25_variability.idxmax()\n",
    "    highest_var_value = pm25_variability.max()\n",
    "    print(f\"State with highest variability in PM2.5 in 2023: {highest_var_state} (Std Dev: {highest_var_value:.2f})\")\n"
   ]
  },
  {
   "cell_type": "markdown",
   "metadata": {},
   "source": [
    "4. \n",
    "Which state has the lowest average PM2.5 levels during the Covid period (The year 2020-2021 both years inclusive)?"
   ]
  },
  {
   "cell_type": "code",
   "execution_count": 30,
   "metadata": {},
   "outputs": [
    {
     "name": "stdout",
     "output_type": "stream",
     "text": [
      "State with lowest average PM2.5 levels during Covid (2020-2021): Mizoram (14.32 µg/m³)\n"
     ]
    }
   ],
   "source": [
    "if 'Date' in df.columns:\n",
    "    df_covid = df[(df['Date'].dt.year >= 2020) & (df['Date'].dt.year <= 2021)]\n",
    "    covid_avg_pm25 = df_covid.groupby('state')['PM2.5'].mean()\n",
    "    lowest_avg_state_covid = covid_avg_pm25.idxmin()\n",
    "    lowest_avg_value_covid = covid_avg_pm25.min()\n",
    "    print(f\"State with lowest average PM2.5 levels during Covid (2020-2021): {lowest_avg_state_covid} ({lowest_avg_value_covid:.2f} µg/m³)\")"
   ]
  },
  {
   "cell_type": "markdown",
   "metadata": {},
   "source": [
    "2."
   ]
  },
  {
   "cell_type": "markdown",
   "metadata": {},
   "source": [
    "1. Report the station that recorded the highest value of PM 2.5 for the month Aug of 2020.\n"
   ]
  },
  {
   "cell_type": "code",
   "execution_count": 31,
   "metadata": {},
   "outputs": [
    {
     "name": "stdout",
     "output_type": "stream",
     "text": [
      "Station with highest PM2.5 in August 2020: Lal Bahadur Shastri Nagar, Kalaburagi - KSPCB (805.51 µg/m³)\n"
     ]
    }
   ],
   "source": [
    "df_aug_2020 = df[(df['Date'].dt.year == 2020) & (df['Date'].dt.month == 8)]\n",
    "highest_pm25_station = df_aug_2020.loc[df_aug_2020['PM2.5'].idxmax(), 'station']\n",
    "highest_pm25_value = df_aug_2020['PM2.5'].max()\n",
    "print(f\"Station with highest PM2.5 in August 2020: {highest_pm25_station} ({highest_pm25_value:.2f} µg/m³)\")"
   ]
  },
  {
   "cell_type": "markdown",
   "metadata": {},
   "source": [
    "2. For the year 2018, calculate the average PM2.5 concentration for each season (Seasons being Winter: December-February, Summer: March-May, and Monsoon: June-September) for stations Lal Bahadur Shastri Nagar, Kalaburagi - KSPCB. Identifying the season with the highest pollution.\n",
    "[Thought Question] Can you suggest some potential factors on why certain seasons are generally more polluted than others?\n"
   ]
  },
  {
   "cell_type": "code",
   "execution_count": 32,
   "metadata": {},
   "outputs": [
    {
     "name": "stdout",
     "output_type": "stream",
     "text": [
      "Season with highest pollution in 2018: Winter (67.49 µg/m³)\n"
     ]
    }
   ],
   "source": [
    "df_2018 = df[(df['Date'].dt.year == 2018) & \n",
    "             (df['station'].isin(['Lal Bahadur Shastri Nagar, Kalaburagi - KSPCB']))]\n",
    "\n",
    "seasons = {\n",
    "    \"Winter\": [12, 1, 2],\n",
    "    \"Summer\": [3, 4, 5],\n",
    "    \"Monsoon\": [6, 7, 8, 9]\n",
    "}\n",
    "\n",
    "seasonal_avg = {}\n",
    "for season, months in seasons.items():\n",
    "    seasonal_avg[season] = df_2018[df_2018['Date'].dt.month.isin(months)]['PM2.5'].mean()\n",
    "\n",
    "highest_pollution_season = max(seasonal_avg, key=seasonal_avg.get)\n",
    "print(f\"Season with highest pollution in 2018: {highest_pollution_season} ({seasonal_avg[highest_pollution_season]:.2f} µg/m³)\")"
   ]
  },
  {
   "cell_type": "markdown",
   "metadata": {},
   "source": [
    "3. Compare the average PM2.5 levels during weekends and weekdays for the station Lal Bahadur Shastri Nagar, Kalaburagi - KSPCB over the year 2021. Create a plot to show these trends Steps:\n",
    "a. Calculate the monthly average PM2.5 for weekdays and weekends separately\n",
    "b. X-axis: Months (January to December).\n",
    "c. Y-axis: Average PM2.5 levels.\n",
    "d. Use two lines: one for the monthly average PM2.5 levels on weekdays and one for weekends."
   ]
  },
  {
   "cell_type": "code",
   "execution_count": 23,
   "metadata": {},
   "outputs": [
    {
     "name": "stdout",
     "output_type": "stream",
     "text": [
      "Potential factors for seasonal pollution variation:\n",
      "1. Winter inversion trapping pollutants.\n",
      "2. Increased vehicular emissions in colder months.\n",
      "3. Summer heat increasing photochemical reactions leading to secondary pollutants.\n",
      "4. Monsoon rains helping to clean air pollutants.\n"
     ]
    },
    {
     "name": "stderr",
     "output_type": "stream",
     "text": [
      "C:\\Users\\kokar\\AppData\\Local\\Temp\\ipykernel_14512\\3153904536.py:10: SettingWithCopyWarning: \n",
      "A value is trying to be set on a copy of a slice from a DataFrame.\n",
      "Try using .loc[row_indexer,col_indexer] = value instead\n",
      "\n",
      "See the caveats in the documentation: https://pandas.pydata.org/pandas-docs/stable/user_guide/indexing.html#returning-a-view-versus-a-copy\n",
      "  df_2021['Weekday'] = df_2021['Date'].dt.weekday\n",
      "C:\\Users\\kokar\\AppData\\Local\\Temp\\ipykernel_14512\\3153904536.py:12: SettingWithCopyWarning: \n",
      "A value is trying to be set on a copy of a slice from a DataFrame.\n",
      "Try using .loc[row_indexer,col_indexer] = value instead\n",
      "\n",
      "See the caveats in the documentation: https://pandas.pydata.org/pandas-docs/stable/user_guide/indexing.html#returning-a-view-versus-a-copy\n",
      "  df_2021['Category'] = np.where(df_2021['Weekday'] < 5, 'Weekday', 'Weekend')\n"
     ]
    },
    {
     "data": {
      "image/png": "[encoded data removed]",
      "text/plain": [
       "<Figure size 1000x500 with 1 Axes>"
      ]
     },
     "metadata": {},
     "output_type": "display_data"
    }
   ],
   "source": [
    "print(\"Potential factors for seasonal pollution variation:\")\n",
    "print(\"1. Winter inversion trapping pollutants.\")\n",
    "print(\"2. Increased vehicular emissions in colder months.\")\n",
    "print(\"3. Summer heat increasing photochemical reactions leading to secondary pollutants.\")\n",
    "print(\"4. Monsoon rains helping to clean air pollutants.\")\n",
    "\n",
    "df_2021 = df[(df['Date'].dt.year == 2021) & \n",
    "             (df['station'] == 'Lal Bahadur Shastri Nagar, Kalaburagi - KSPCB')]\n",
    "\n",
    "df_2021['Weekday'] = df_2021['Date'].dt.weekday\n",
    "\n",
    "df_2021['Category'] = np.where(df_2021['Weekday'] < 5, 'Weekday', 'Weekend')\n",
    "\n",
    "monthly_avg = df_2021.groupby([df_2021['Date'].dt.month, 'Category'])['PM2.5'].mean().unstack()\n",
    "\n",
    "plt.figure(figsize=(10, 5))\n",
    "plt.plot(monthly_avg.index, monthly_avg['Weekday'], marker='o', label='Weekday')\n",
    "plt.plot(monthly_avg.index, monthly_avg['Weekend'], marker='s', label='Weekend')\n",
    "plt.xticks(range(1, 13), ['Jan', 'Feb', 'Mar', 'Apr', 'May', 'Jun', 'Jul', 'Aug', 'Sep', 'Oct', 'Nov', 'Dec'])\n",
    "plt.xlabel(\"Months\")\n",
    "plt.ylabel(\"Average PM2.5 Levels\")\n",
    "plt.title(\"Comparison of PM2.5 Levels on Weekdays vs. Weekends in 2021\")\n",
    "plt.legend()\n",
    "plt.grid()\n",
    "plt.show()"
   ]
  },
  {
   "cell_type": "code",
   "execution_count": 24,
   "metadata": {},
   "outputs": [
    {
     "name": "stdout",
     "output_type": "stream",
     "text": [
      "City with highest average PM2.5 levels: Byrnihat (137.55 µg/m³)\n",
      "Cities consistently exceeding safe PM2.5 levels:\n",
      "city\n",
      "Byrnihat     137.546358\n",
      "Begusarai    119.810165\n",
      "Delhi        104.100918\n",
      "Darbhanga    100.996960\n",
      "Ghaziabad    100.861468\n",
      "Name: PM2.5, dtype: float64\n"
     ]
    }
   ],
   "source": [
    "\n",
    "city_avg_pm25 = df.groupby('city')['PM2.5'].mean().sort_values(ascending=False)\n",
    "highest_polluted_city = city_avg_pm25.idxmax()\n",
    "highest_polluted_city_value = city_avg_pm25.max()\n",
    "print(f\"City with highest average PM2.5 levels: {highest_polluted_city} ({highest_polluted_city_value:.2f} µg/m³)\")\n",
    "\n",
    "\n",
    "toxic_cities = city_avg_pm25[city_avg_pm25 > 100]\n",
    "print(\"Cities consistently exceeding safe PM2.5 levels:\")\n",
    "print(toxic_cities)\n"
   ]
  }
 ],
 "metadata": {
  "kernelspec": {
   "display_name": "Python 3",
   "language": "python",
   "name": "python3"
  },
  "language_info": {
   "codemirror_mode": {
    "name": "ipython",
    "version": 3
   },
   "file_extension": ".py",
   "mimetype": "text/x-python",
   "name": "python",
   "nbconvert_exporter": "python",
   "pygments_lexer": "ipython3",
   "version": "3.12.9"
  }
 },
 "nbformat": 4,
 "nbformat_minor": 2
}
